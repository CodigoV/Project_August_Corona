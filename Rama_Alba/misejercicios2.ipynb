{
 "cells": [
  {
   "cell_type": "code",
   "execution_count": 1,
   "metadata": {},
   "outputs": [
    {
     "output_type": "execute_result",
     "data": {
      "text/plain": "['oh', 'ah']"
     },
     "metadata": {},
     "execution_count": 1
    }
   ],
   "source": [
    "[x for x in [\"bla\",\"oh\",\"jaja\",\"i\",\"ah\"] if len(x)==2]"
   ]
  },
  {
   "cell_type": "code",
   "execution_count": 2,
   "metadata": {},
   "outputs": [
    {
     "output_type": "execute_result",
     "data": {
      "text/plain": "['oh', 'ah']"
     },
     "metadata": {},
     "execution_count": 2
    }
   ],
   "source": [
    "esigualados = lambda x: len(x)==2\n",
    "list(filter(esigualados, [\"bla\", \"oh\", \"jaja\", \"i\", \"ah\"]))"
   ]
  },
  {
   "cell_type": "code",
   "execution_count": null,
   "metadata": {},
   "outputs": [],
   "source": []
  },
  {
   "cell_type": "code",
   "execution_count": 3,
   "metadata": {},
   "outputs": [
    {
     "output_type": "error",
     "ename": "SyntaxError",
     "evalue": "EOL while scanning string literal (<ipython-input-3-4697adf572f5>, line 1)",
     "traceback": [
      "\u001b[1;36m  File \u001b[1;32m\"<ipython-input-3-4697adf572f5>\"\u001b[1;36m, line \u001b[1;32m1\u001b[0m\n\u001b[1;33m    \"\"\"\"\"\"\"\u001b[0m\n\u001b[1;37m           ^\u001b[0m\n\u001b[1;31mSyntaxError\u001b[0m\u001b[1;31m:\u001b[0m EOL while scanning string literal\n"
     ]
    }
   ],
   "source": [
    "\"\"\"\"\"\"\"\n",
    "\n",
    "Osea que\n",
    "\n",
    "list(filter(lambda x: len(x)==2, [\"bla\", \"oh\", \"jaja\", \"i\", \"ah\"]))\n",
    "\n",
    "Da el mismo resultado que hacer el comprehension:\n",
    "[x for x in [\"bla\",\"oh\",\"jaja\",\"i\",\"ah\"] if len(x)==2]\n",
    "\n",
    "\n",
    "Osea\n",
    "\n",
    "[\"oh\",\"ah\"]"
   ]
  },
  {
   "cell_type": "code",
   "execution_count": 4,
   "metadata": {
    "tags": []
   },
   "outputs": [
    {
     "output_type": "stream",
     "name": "stdout",
     "text": "['kk', 'si']\n"
    }
   ],
   "source": [
    "tiene_dos_letras= lambda x: len(x) ==2\n",
    "\n",
    "lista=[\"kk\", \"avion\", \"hola\", \"si\"]\n",
    "\n",
    "filtrada = list(filter(tiene_dos_letras, lista))\n",
    "\n",
    "print(filtrada) # esto imprime [\"kk\", \"si\"]"
   ]
  },
  {
   "cell_type": "code",
   "execution_count": 5,
   "metadata": {
    "tags": []
   },
   "outputs": [
    {
     "output_type": "stream",
     "name": "stdout",
     "text": "['azul', 'azul']\n"
    }
   ],
   "source": [
    "es_azul = lambda x: x==\"azul\"\n",
    "\n",
    "\n",
    "lista=\"rojo,verde,azul,amarillo,azul\".split(\",\")\n",
    "\n",
    "filtrada=list(filter(es_azul, lista))\n",
    "print(filtrada) # esto imprime [“azul”, “azul]"
   ]
  },
  {
   "cell_type": "code",
   "execution_count": 6,
   "metadata": {},
   "outputs": [
    {
     "output_type": "execute_result",
     "data": {
      "text/plain": "[6, 7, 8, 9, 10, 11, 12, 13, 14, 15]"
     },
     "metadata": {},
     "execution_count": 6
    }
   ],
   "source": [
    "def _f_protected(): \n",
    "    x_es_mayor_que_cinco = lambda x : x>5\n",
    "    l1=[elem for elem in range(16)]\n",
    "    y= list(filter(x_es_mayor_que_cinco,l1))\n",
    "    return (y)\n",
    "    print (y)\n",
    "\n",
    "_f_protected()"
   ]
  },
  {
   "cell_type": "code",
   "execution_count": null,
   "metadata": {},
   "outputs": [],
   "source": []
  },
  {
   "cell_type": "markdown",
   "metadata": {},
   "source": [
    "json inside column dataframe python \n",
    "\n",
    "la primera opcion en google "
   ]
  },
  {
   "cell_type": "code",
   "execution_count": 7,
   "metadata": {},
   "outputs": [
    {
     "output_type": "error",
     "ename": "SyntaxError",
     "evalue": "invalid character in identifier (<ipython-input-7-a0191b048037>, line 2)",
     "traceback": [
      "\u001b[1;36m  File \u001b[1;32m\"<ipython-input-7-a0191b048037>\"\u001b[1;36m, line \u001b[1;32m2\u001b[0m\n\u001b[1;33m    ​\u001b[0m\n\u001b[1;37m    ^\u001b[0m\n\u001b[1;31mSyntaxError\u001b[0m\u001b[1;31m:\u001b[0m invalid character in identifier\n"
     ]
    }
   ],
   "source": [
    "from functools import wraps\n",
    "​\n",
    "def pepe_el_decorador(*args, **kwargs):\n",
    "    def alter_ego_de_pepe(cualquier_funcion_que_pepe_decore):\n",
    "        @wraps(cualquier_funcion_que_pepe_decore)\n",
    "        def wrapper(*a, **k):\n",
    "            if args:\n",
    "                print(\"args:\",args)\n",
    "            if kwargs:\n",
    "                print(\"kwargs:\",kwargs)\n",
    "            if a:\n",
    "                print(\"a:\",a)\n",
    "            if k:\n",
    "                print(\"k:\",k)\n",
    "            return (\"esto es lo que devuelve 'wrapper':\",cualquier_funcion_que_pepe_decore(*a,**k))\n",
    "        print(wrapper, \"\\nlo devuelve la función alter_ego_de_pepe\")\n",
    "        return wrapper\n",
    "    return alter_ego_de_pepe\n",
    "​\n",
    "​\n",
    "@pepe_el_decorador(808080, quiwars=\"este es el valor de kwargs del decorador\")\n",
    "def funcion_decorada_por_pepe(ar, kw):\n",
    "    print(\"este es el parámetro 'ar' de 'funcion_decorada_por_pepe:\", ar)\n",
    "    print(\"este es el parámetro 'kw':\",kw)\n",
    "    return \"Esto es lo que devuelve la función decorada\"\n",
    "​\n",
    "funcion_decorada_por_pepe(\"en wrapper soy '*a'\", kw = \"en wrapper soy '**k'\")"
   ]
  },
  {
   "cell_type": "code",
   "execution_count": 8,
   "metadata": {},
   "outputs": [
    {
     "output_type": "error",
     "ename": "NameError",
     "evalue": "name 'jason' is not defined",
     "traceback": [
      "\u001b[1;31m---------------------------------------------------------------------------\u001b[0m",
      "\u001b[1;31mNameError\u001b[0m                                 Traceback (most recent call last)",
      "\u001b[1;32m<ipython-input-8-6dc53d353458>\u001b[0m in \u001b[0;36m<module>\u001b[1;34m\u001b[0m\n\u001b[1;32m----> 1\u001b[1;33m \u001b[0mjason\u001b[0m\u001b[1;33m.\u001b[0m\u001b[0mnormalize\u001b[0m\u001b[1;33m\u001b[0m\u001b[1;33m\u001b[0m\u001b[0m\n\u001b[0m\u001b[0;32m      2\u001b[0m \u001b[1;33m\u001b[0m\u001b[0m\n",
      "\u001b[1;31mNameError\u001b[0m: name 'jason' is not defined"
     ]
    }
   ],
   "source": [
    "jason.normalize \n",
    "\n"
   ]
  },
  {
   "cell_type": "code",
   "execution_count": 9,
   "metadata": {},
   "outputs": [
    {
     "output_type": "error",
     "ename": "SyntaxError",
     "evalue": "invalid syntax (<ipython-input-9-8f6d73fc38fd>, line 1)",
     "traceback": [
      "\u001b[1;36m  File \u001b[1;32m\"<ipython-input-9-8f6d73fc38fd>\"\u001b[1;36m, line \u001b[1;32m1\u001b[0m\n\u001b[1;33m    forma de hacer version principiante\u001b[0m\n\u001b[1;37m          ^\u001b[0m\n\u001b[1;31mSyntaxError\u001b[0m\u001b[1;31m:\u001b[0m invalid syntax\n"
     ]
    }
   ],
   "source": [
    "forma de hacer version principiante\n",
    "def concatena_dataframes1(df1, df2): \n",
    "    df_list = [df1, df2]\n",
    "    concatenados = pd.concat(df_list, axis=0)\n",
    "    return concatenados\n",
    "\n",
    "forma d ehacerlo version pro\n",
    "\n",
    "def concatena_dataframes2(df1, df2): \n",
    "    return pd.concat([df1, df2], axis=0)"
   ]
  },
  {
   "cell_type": "code",
   "execution_count": null,
   "metadata": {},
   "outputs": [],
   "source": []
  },
  {
   "cell_type": "code",
   "execution_count": 10,
   "metadata": {},
   "outputs": [],
   "source": [
    "def factorial(n):\n",
    "    if n ==1:\n",
    "        return n\n",
    "    else:\n",
    "        return n * factorial(n-1)\n",
    "\n",
    "#es una funcion recursiva que me calcula directamente el factorial de un numero def factorial(n):\n",
    "   "
   ]
  },
  {
   "cell_type": "code",
   "execution_count": 11,
   "metadata": {},
   "outputs": [
    {
     "output_type": "execute_result",
     "data": {
      "text/plain": "     date                    metadata title\n0  blabla  {'x': 'y', 'z': {'v': []}}     A\n1  bleble  {'x': 'y', 'z': {'v': []}}     B",
      "text/html": "<div>\n<style scoped>\n    .dataframe tbody tr th:only-of-type {\n        vertical-align: middle;\n    }\n\n    .dataframe tbody tr th {\n        vertical-align: top;\n    }\n\n    .dataframe thead th {\n        text-align: right;\n    }\n</style>\n<table border=\"1\" class=\"dataframe\">\n  <thead>\n    <tr style=\"text-align: right;\">\n      <th></th>\n      <th>date</th>\n      <th>metadata</th>\n      <th>title</th>\n    </tr>\n  </thead>\n  <tbody>\n    <tr>\n      <th>0</th>\n      <td>blabla</td>\n      <td>{'x': 'y', 'z': {'v': []}}</td>\n      <td>A</td>\n    </tr>\n    <tr>\n      <th>1</th>\n      <td>bleble</td>\n      <td>{'x': 'y', 'z': {'v': []}}</td>\n      <td>B</td>\n    </tr>\n  </tbody>\n</table>\n</div>"
     },
     "metadata": {},
     "execution_count": 11
    }
   ],
   "source": [
    "#ejercicio covid\n",
    "import pandas as pd\n",
    "#entendiendo lo que estoy haciendo en un ejemplo imaginario con datos mas simples para aclararme \n",
    "lista=[\n",
    "    {\"date\":\"blabla\", \"metadata\":{\"x\":\"y\", \"z\":{\"v\":[]}}, \"title\":\"A\"},\n",
    "    {\"date\":\"bleble\", \"metadata\":{\"x\":\"y\", \"z\":{\"v\":[]}}, \"title\":\"B\"}\n",
    "]\n",
    "# Leer de forma directa:\n",
    "pd.DataFrame(lista)"
   ]
  },
  {
   "cell_type": "code",
   "execution_count": 12,
   "metadata": {},
   "outputs": [
    {
     "output_type": "execute_result",
     "data": {
      "text/plain": "     date                    metadata title\n0  blabla  {'x': 'y', 'z': {'v': []}}     A\n1  bleble  {'x': 'y', 'z': {'v': []}}     B",
      "text/html": "<div>\n<style scoped>\n    .dataframe tbody tr th:only-of-type {\n        vertical-align: middle;\n    }\n\n    .dataframe tbody tr th {\n        vertical-align: top;\n    }\n\n    .dataframe thead th {\n        text-align: right;\n    }\n</style>\n<table border=\"1\" class=\"dataframe\">\n  <thead>\n    <tr style=\"text-align: right;\">\n      <th></th>\n      <th>date</th>\n      <th>metadata</th>\n      <th>title</th>\n    </tr>\n  </thead>\n  <tbody>\n    <tr>\n      <th>0</th>\n      <td>blabla</td>\n      <td>{'x': 'y', 'z': {'v': []}}</td>\n      <td>A</td>\n    </tr>\n    <tr>\n      <th>1</th>\n      <td>bleble</td>\n      <td>{'x': 'y', 'z': {'v': []}}</td>\n      <td>B</td>\n    </tr>\n  </tbody>\n</table>\n</div>"
     },
     "metadata": {},
     "execution_count": 12
    }
   ],
   "source": [
    "#ejercicio covid \n",
    "# Leer la lista cuando está anidada dentro de diccionarios con un ejemplo más simple para aclararme \n",
    "\n",
    "item={\n",
    "    \"data\":{\n",
    "        \"post\": [\n",
    "                  {\"date\":\"blabla\", \"metadata\":{\"x\":\"y\", \"z\":{\"v\":[]}}, \"title\":\"A\"},\n",
    "                  {\"date\":\"bleble\", \"metadata\":{\"x\":\"y\", \"z\":{\"v\":[]}}, \"title\":\"B\"}\n",
    "                ]\n",
    "    }\n",
    "}\n",
    "\n",
    "\n",
    "df_x =pd.DataFrame(item)\n",
    "\n",
    "post = df_x.data.post\n",
    "pd.DataFrame(post)"
   ]
  },
  {
   "cell_type": "code",
   "execution_count": 13,
   "metadata": {},
   "outputs": [
    {
     "output_type": "execute_result",
     "data": {
      "text/plain": "   a\n0  1\n1  2\n0  3\n1  4",
      "text/html": "<div>\n<style scoped>\n    .dataframe tbody tr th:only-of-type {\n        vertical-align: middle;\n    }\n\n    .dataframe tbody tr th {\n        vertical-align: top;\n    }\n\n    .dataframe thead th {\n        text-align: right;\n    }\n</style>\n<table border=\"1\" class=\"dataframe\">\n  <thead>\n    <tr style=\"text-align: right;\">\n      <th></th>\n      <th>a</th>\n    </tr>\n  </thead>\n  <tbody>\n    <tr>\n      <th>0</th>\n      <td>1</td>\n    </tr>\n    <tr>\n      <th>1</th>\n      <td>2</td>\n    </tr>\n    <tr>\n      <th>0</th>\n      <td>3</td>\n    </tr>\n    <tr>\n      <th>1</th>\n      <td>4</td>\n    </tr>\n  </tbody>\n</table>\n</div>"
     },
     "metadata": {},
     "execution_count": 13
    }
   ],
   "source": [
    "#ejercicio nba18\n",
    "#entendiendo lo que estoy haciendo con un ejemplo con valores más sencillos \n",
    "df1 = pd.DataFrame([{\"a\":1},{\"a\":2}])\n",
    "df2 = pd.DataFrame([{\"a\":3},{\"a\":4}])\n",
    "pd.concat([df1,df2], axis=0)#entendiendo lo que estoy haciendo con un ejemplo con valores más sencillos \n",
    "df1 = pd.DataFrame([{\"a\":1},{\"a\":2}])\n",
    "df2 = pd.DataFrame([{\"a\":3},{\"a\":4}])\n",
    "pd.concat([df1,df2], axis=0)"
   ]
  },
  {
   "cell_type": "code",
   "execution_count": 14,
   "metadata": {},
   "outputs": [
    {
     "output_type": "error",
     "ename": "SyntaxError",
     "evalue": "invalid syntax (<ipython-input-14-cafe7d82c7d0>, line 1)",
     "traceback": [
      "\u001b[1;36m  File \u001b[1;32m\"<ipython-input-14-cafe7d82c7d0>\"\u001b[1;36m, line \u001b[1;32m1\u001b[0m\n\u001b[1;33m    np.<TAB>\u001b[0m\n\u001b[1;37m       ^\u001b[0m\n\u001b[1;31mSyntaxError\u001b[0m\u001b[1;31m:\u001b[0m invalid syntax\n"
     ]
    }
   ],
   "source": [
    "In [3]: np.<TAB>\n"
   ]
  },
  {
   "cell_type": "code",
   "execution_count": 15,
   "metadata": {
    "tags": []
   },
   "outputs": [
    {
     "output_type": "stream",
     "name": "stdout",
     "text": "Object `np` not found.\n"
    }
   ],
   "source": [
    "In [4]: np?"
   ]
  },
  {
   "cell_type": "code",
   "execution_count": 16,
   "metadata": {},
   "outputs": [],
   "source": [
    "import numpy as np\n",
    "np.random.seed(0)"
   ]
  },
  {
   "cell_type": "code",
   "execution_count": 17,
   "metadata": {},
   "outputs": [],
   "source": [
    "x1 = np.zeros(6)  # One-dimensional array\n",
    "x2 = np.ones((3, 4)) # Two-dimensional array\n",
    "x3 = np.ones((3, 4, 5))  # Three-dimensional array"
   ]
  },
  {
   "cell_type": "code",
   "execution_count": 18,
   "metadata": {},
   "outputs": [
    {
     "output_type": "execute_result",
     "data": {
      "text/plain": "array([0., 0., 0., 0., 0., 0.])"
     },
     "metadata": {},
     "execution_count": 18
    }
   ],
   "source": [
    "x1"
   ]
  },
  {
   "cell_type": "code",
   "execution_count": 19,
   "metadata": {},
   "outputs": [
    {
     "output_type": "execute_result",
     "data": {
      "text/plain": "array([[1., 1., 1., 1.],\n       [1., 1., 1., 1.],\n       [1., 1., 1., 1.]])"
     },
     "metadata": {},
     "execution_count": 19
    }
   ],
   "source": [
    "x2 = np.ones((3, 4)) #3 son las filas, y 4 son las columnas (3 filas, 4 columnas). este array es bidimensional. \n",
    "x2 #"
   ]
  },
  {
   "cell_type": "code",
   "execution_count": 20,
   "metadata": {},
   "outputs": [],
   "source": [
    "x3 = np.ones((3, 4, 5))  # Three-dimensional array. 3 arrays, 4 filas, 5 columnas "
   ]
  },
  {
   "cell_type": "code",
   "execution_count": 21,
   "metadata": {
    "tags": []
   },
   "outputs": [
    {
     "output_type": "stream",
     "name": "stdout",
     "text": "itemsize: 8 bytes\nnbytes: 480 bytes\n"
    }
   ],
   "source": [
    "print(\"itemsize:\", x3.itemsize, \"bytes\")\n",
    "print(\"nbytes:\", x3.nbytes, \"bytes\")"
   ]
  },
  {
   "cell_type": "code",
   "execution_count": 22,
   "metadata": {},
   "outputs": [],
   "source": [
    "#Si está familiarizado con la indexación de lista estándar de Python, la indexación en NumPy le resultará bastante familiar. En una matriz unidimensional, se puede acceder al valor i-ésimo (contando desde cero) especificando el índice deseado entre corchetes, al igual que con las listas de Python:"
   ]
  },
  {
   "cell_type": "code",
   "execution_count": 23,
   "metadata": {},
   "outputs": [
    {
     "output_type": "execute_result",
     "data": {
      "text/plain": "array([0., 0., 0., 0., 0., 0.])"
     },
     "metadata": {},
     "execution_count": 23
    }
   ],
   "source": [
    "x1"
   ]
  },
  {
   "cell_type": "code",
   "execution_count": 24,
   "metadata": {},
   "outputs": [
    {
     "output_type": "execute_result",
     "data": {
      "text/plain": "0.0"
     },
     "metadata": {},
     "execution_count": 24
    }
   ],
   "source": [
    "x1[0]"
   ]
  },
  {
   "cell_type": "code",
   "execution_count": 25,
   "metadata": {},
   "outputs": [
    {
     "output_type": "execute_result",
     "data": {
      "text/plain": "0.0"
     },
     "metadata": {},
     "execution_count": 25
    }
   ],
   "source": [
    "x1[4]"
   ]
  },
  {
   "cell_type": "code",
   "execution_count": 26,
   "metadata": {},
   "outputs": [
    {
     "output_type": "execute_result",
     "data": {
      "text/plain": "array([[12.,  1.,  1.,  1.],\n       [ 1.,  1.,  1.,  1.],\n       [ 1.,  1.,  1.,  1.]])"
     },
     "metadata": {},
     "execution_count": 26
    }
   ],
   "source": [
    "#Values can also be modified using any of the above index notation:\n",
    "#ha sustituido el valor del 0.0 (era 1.) por un 12\n",
    "x2[0, 0] = 12\n",
    "x2"
   ]
  },
  {
   "cell_type": "code",
   "execution_count": 27,
   "metadata": {},
   "outputs": [],
   "source": [
    "#Tenga en cuenta que, a diferencia de las listas de Python, las matrices NumPy tienen un tipo fijo. Esto significa, por ejemplo, que si intenta insertar un valor de punto flotante en una matriz entera, el valor se truncará silenciosamente. ¡No se deje sorprender por este comportamiento!"
   ]
  },
  {
   "cell_type": "code",
   "execution_count": 28,
   "metadata": {},
   "outputs": [
    {
     "output_type": "execute_result",
     "data": {
      "text/plain": "array([0., 0., 0., 0., 0., 0.])"
     },
     "metadata": {},
     "execution_count": 28
    }
   ],
   "source": [
    "x1"
   ]
  },
  {
   "cell_type": "code",
   "execution_count": 29,
   "metadata": {},
   "outputs": [
    {
     "output_type": "execute_result",
     "data": {
      "text/plain": "array([3.14159, 0.     , 0.     , 0.     , 0.     , 0.     ])"
     },
     "metadata": {},
     "execution_count": 29
    }
   ],
   "source": [
    "x1[0] = 3.14159  # this will be truncated! #preguntar a Clara \n",
    "x1"
   ]
  },
  {
   "cell_type": "code",
   "execution_count": 30,
   "metadata": {},
   "outputs": [],
   "source": [
    "#Del mismo modo que podemos usar corchetes para acceder a elementos de matriz individuales, también podemos usarlos para acceder a submatrices con la notación de corte, marcada con el carácter de dos puntos (:). La sintaxis de segmentación NumPy sigue la de la lista estándar de Python; para acceder a un segmento de una matriz x, use esto: x [inicio: detener: paso]\n",
    "#Si alguno de estos no está especificado, los valores predeterminados son inicio = 0, parada = tamaño de dimensión, paso = 1. Echaremos un vistazo al acceso a sub-matrices en una dimensión y en múltiples dimensiones."
   ]
  },
  {
   "cell_type": "code",
   "execution_count": 31,
   "metadata": {
    "tags": []
   },
   "outputs": [
    {
     "output_type": "stream",
     "name": "stdout",
     "text": "[0 1 2 3 4 5 6 7 8 9]\n"
    }
   ],
   "source": [
    "x = np.arange(10)\n",
    "print (np.arange(10))"
   ]
  },
  {
   "cell_type": "code",
   "execution_count": 32,
   "metadata": {},
   "outputs": [
    {
     "output_type": "execute_result",
     "data": {
      "text/plain": "array([0, 1, 2, 3, 4, 5, 6, 7, 8, 9])"
     },
     "metadata": {},
     "execution_count": 32
    }
   ],
   "source": [
    "x = np.arange(10)\n",
    "x"
   ]
  },
  {
   "cell_type": "code",
   "execution_count": 33,
   "metadata": {},
   "outputs": [
    {
     "output_type": "execute_result",
     "data": {
      "text/plain": "array([0, 1, 2, 3, 4])"
     },
     "metadata": {},
     "execution_count": 33
    }
   ],
   "source": [
    "x[:5]  # first five elements"
   ]
  },
  {
   "cell_type": "code",
   "execution_count": 34,
   "metadata": {},
   "outputs": [
    {
     "output_type": "execute_result",
     "data": {
      "text/plain": "array([4, 5, 6])"
     },
     "metadata": {},
     "execution_count": 34
    }
   ],
   "source": [
    "x[4:7]"
   ]
  },
  {
   "cell_type": "code",
   "execution_count": 35,
   "metadata": {},
   "outputs": [
    {
     "output_type": "execute_result",
     "data": {
      "text/plain": "array([0, 2, 4, 6, 8])"
     },
     "metadata": {},
     "execution_count": 35
    }
   ],
   "source": [
    "x[::2]  # every other element. Aqui saca los pares"
   ]
  },
  {
   "cell_type": "code",
   "execution_count": 36,
   "metadata": {},
   "outputs": [
    {
     "output_type": "execute_result",
     "data": {
      "text/plain": "array([1, 3, 5, 7, 9])"
     },
     "metadata": {},
     "execution_count": 36
    }
   ],
   "source": [
    "x[1::2]  # every other element, starting at index 1. saca los impares "
   ]
  },
  {
   "cell_type": "code",
   "execution_count": 37,
   "metadata": {},
   "outputs": [
    {
     "output_type": "execute_result",
     "data": {
      "text/plain": "array([9, 8, 7, 6, 5, 4, 3, 2, 1, 0])"
     },
     "metadata": {},
     "execution_count": 37
    }
   ],
   "source": [
    "x[::-1]  # all elements, reversed"
   ]
  },
  {
   "cell_type": "code",
   "execution_count": 38,
   "metadata": {},
   "outputs": [
    {
     "output_type": "execute_result",
     "data": {
      "text/plain": "array([5, 3, 1])"
     },
     "metadata": {},
     "execution_count": 38
    }
   ],
   "source": [
    "x[5::-2]  # reversed every other from index 5"
   ]
  },
  {
   "cell_type": "code",
   "execution_count": 39,
   "metadata": {},
   "outputs": [],
   "source": [
    "#SLICING LA PARTE DE LA IZQUIERDA SON FILAS Y LA DE LA DERECHA SON COLUMNAS "
   ]
  },
  {
   "cell_type": "code",
   "execution_count": 40,
   "metadata": {},
   "outputs": [
    {
     "output_type": "execute_result",
     "data": {
      "text/plain": "array([[12.,  1.,  1.,  1.],\n       [ 1.,  1.,  1.,  1.],\n       [ 1.,  1.,  1.,  1.]])"
     },
     "metadata": {},
     "execution_count": 40
    }
   ],
   "source": [
    "x2"
   ]
  },
  {
   "cell_type": "code",
   "execution_count": 41,
   "metadata": {},
   "outputs": [
    {
     "output_type": "execute_result",
     "data": {
      "text/plain": "array([[12.,  1.,  1.],\n       [ 1.,  1.,  1.]])"
     },
     "metadata": {},
     "execution_count": 41
    }
   ],
   "source": [
    "x2[:2, :3]  # two rows, three columns LA PARTE DE LA IZQUIERDA SON FILAS Y LA DE LA DERECHA SON COLUMNAS "
   ]
  },
  {
   "cell_type": "code",
   "execution_count": 42,
   "metadata": {},
   "outputs": [
    {
     "output_type": "execute_result",
     "data": {
      "text/plain": "array([[12.,  1.],\n       [ 1.,  1.],\n       [ 1.,  1.]])"
     },
     "metadata": {},
     "execution_count": 42
    }
   ],
   "source": [
    "x2[:3, ::2]  # all rows (filas), every other column"
   ]
  },
  {
   "cell_type": "code",
   "execution_count": 43,
   "metadata": {},
   "outputs": [
    {
     "output_type": "execute_result",
     "data": {
      "text/plain": "array([[12.,  1.,  1.,  1.],\n       [ 1.,  1.,  1.,  1.],\n       [ 1.,  1.,  1.,  1.]])"
     },
     "metadata": {},
     "execution_count": 43
    }
   ],
   "source": [
    "x2"
   ]
  },
  {
   "cell_type": "code",
   "execution_count": 44,
   "metadata": {},
   "outputs": [
    {
     "output_type": "execute_result",
     "data": {
      "text/plain": "array([[12.,  1.,  1.,  1.],\n       [ 1.,  1.,  1.,  1.],\n       [ 1.,  1.,  1.,  1.]])"
     },
     "metadata": {},
     "execution_count": 44
    }
   ],
   "source": [
    "x2"
   ]
  },
  {
   "cell_type": "code",
   "execution_count": 45,
   "metadata": {},
   "outputs": [
    {
     "output_type": "execute_result",
     "data": {
      "text/plain": "array([[12.,  1.,  1.,  1.],\n       [ 1.,  1.,  1.,  1.],\n       [ 1.,  1.,  1.,  1.]])"
     },
     "metadata": {},
     "execution_count": 45
    }
   ],
   "source": [
    "x2[:3, ::1]  # all rows, every other column ME QUEDA POR ENTENDER ESTO "
   ]
  },
  {
   "cell_type": "code",
   "execution_count": 46,
   "metadata": {
    "tags": []
   },
   "outputs": [
    {
     "output_type": "stream",
     "name": "stdout",
     "text": "I am Jaime, and I likeloqueseaat night\nI am Jaime and I like loquesea at night\n"
    }
   ],
   "source": [
    "name=\"Jaime\"\n",
    "blabla=\"loquesea\"\n",
    "print(\"I am \"+name+ \", and I like\"+blabla+\"at night\")\n",
    "print(f\"I am {name} and I like {blabla} at night\")"
   ]
  },
  {
   "cell_type": "code",
   "execution_count": null,
   "metadata": {},
   "outputs": [],
   "source": []
  },
  {
   "cell_type": "code",
   "execution_count": null,
   "metadata": {},
   "outputs": [],
   "source": []
  },
  {
   "cell_type": "code",
   "execution_count": 47,
   "metadata": {},
   "outputs": [
    {
     "output_type": "execute_result",
     "data": {
      "text/plain": "[0, 1, 2, 3, 4]"
     },
     "metadata": {},
     "execution_count": 47
    }
   ],
   "source": [
    "def numeritos(n):\n",
    "    return list(range(n))\n",
    "\n",
    "a=numeritos(5)\n",
    "a\n"
   ]
  },
  {
   "cell_type": "code",
   "execution_count": 48,
   "metadata": {},
   "outputs": [
    {
     "output_type": "execute_result",
     "data": {
      "text/plain": "['x', 'x', 'x']"
     },
     "metadata": {},
     "execution_count": 48
    }
   ],
   "source": [
    "def numerotes(n):\n",
    "    return [\"x\"] * n\n",
    "\n",
    "numerotes(3)"
   ]
  },
  {
   "cell_type": "code",
   "execution_count": 49,
   "metadata": {
    "tags": []
   },
   "outputs": [
    {
     "output_type": "execute_result",
     "data": {
      "text/plain": "[0, 'kk']"
     },
     "metadata": {},
     "execution_count": 49
    }
   ],
   "source": [
    "def funcion_chunga(f, numero): #lo que está entre parentesis son variables \n",
    "    l = f(n=numero)\n",
    "    l.append(\"kk\")\n",
    "    return l\n",
    "\n",
    "x=funcion_chunga(f=numeritos, numero=1) #necesario para darle sentido a la funcion\n",
    "x"
   ]
  },
  {
   "cell_type": "code",
   "execution_count": 50,
   "metadata": {
    "tags": []
   },
   "outputs": [
    {
     "output_type": "stream",
     "name": "stdout",
     "text": "[0, 1, 2, 3, 4, 'kk']\n['x', 'kk']\n"
    }
   ],
   "source": [
    "print(funcion_chunga(numeritos, numero=5))\n",
    "print(funcion_chunga(numerotes, numero=1))\n"
   ]
  },
  {
   "cell_type": "code",
   "execution_count": 51,
   "metadata": {
    "tags": []
   },
   "outputs": [
    {
     "output_type": "stream",
     "name": "stdout",
     "text": "hola mundo\nNone\n"
    }
   ],
   "source": [
    "\n",
    "\n",
    "def funcion(f, texto):\n",
    "    f(texto)\n",
    "\n",
    "a=funcion(print, \"hola mundo\")\n",
    "print(a)"
   ]
  },
  {
   "cell_type": "code",
   "execution_count": 52,
   "metadata": {},
   "outputs": [],
   "source": [
    "f1 = list\n",
    "f2 = print\n"
   ]
  },
  {
   "cell_type": "code",
   "execution_count": 53,
   "metadata": {},
   "outputs": [
    {
     "output_type": "execute_result",
     "data": {
      "text/plain": "['H', 'o', 'l', 'a', ' ', 'm', 'u', 'n', 'd', 'o']"
     },
     "metadata": {},
     "execution_count": 53
    }
   ],
   "source": [
    "f1(\"Hola mundo\")"
   ]
  },
  {
   "cell_type": "code",
   "execution_count": 54,
   "metadata": {
    "tags": []
   },
   "outputs": [
    {
     "output_type": "stream",
     "name": "stdout",
     "text": "hola mundo\n"
    }
   ],
   "source": [
    "f2(\"hola mundo\")"
   ]
  },
  {
   "cell_type": "code",
   "execution_count": 55,
   "metadata": {},
   "outputs": [
    {
     "output_type": "execute_result",
     "data": {
      "text/plain": "9"
     },
     "metadata": {},
     "execution_count": 55
    }
   ],
   "source": [
    "def sumar_uno(a):\n",
    "    return a+1\n",
    "\n",
    "g= sumar_uno\n",
    "\n",
    "g(8)"
   ]
  },
  {
   "cell_type": "code",
   "execution_count": 56,
   "metadata": {},
   "outputs": [
    {
     "output_type": "execute_result",
     "data": {
      "text/plain": "<function __main__.sumar_uno(a)>"
     },
     "metadata": {},
     "execution_count": 56
    }
   ],
   "source": [
    "sumar_uno"
   ]
  },
  {
   "cell_type": "code",
   "execution_count": 57,
   "metadata": {
    "tags": []
   },
   "outputs": [
    {
     "output_type": "stream",
     "name": "stdout",
     "text": "1\njaime\n2\n"
    }
   ],
   "source": [
    "\n",
    "\n",
    "n = 1\n",
    "\n",
    "def cambiar_n():\n",
    "    global n\n",
    "    n=n+1\n",
    "    return \"jaime\"\n",
    "\n",
    "print(n) #devuelve la variable \n",
    "print(cambiar_n()) #imprime jaime porque se lo estamos pidiendo con el return, pero si no tuvieramos el return, imprimiría solo None. \n",
    "print(n) #imprime 2 porque la función ha operado y ha cambiado el valor de n "
   ]
  },
  {
   "cell_type": "code",
   "execution_count": 58,
   "metadata": {},
   "outputs": [
    {
     "output_type": "execute_result",
     "data": {
      "text/plain": "'jaime'"
     },
     "metadata": {},
     "execution_count": 58
    }
   ],
   "source": [
    "z=cambiar_n()\n",
    "z\n"
   ]
  },
  {
   "cell_type": "code",
   "execution_count": 59,
   "metadata": {},
   "outputs": [
    {
     "output_type": "execute_result",
     "data": {
      "text/plain": "'jaime'"
     },
     "metadata": {},
     "execution_count": 59
    }
   ],
   "source": [
    "z"
   ]
  },
  {
   "cell_type": "code",
   "execution_count": 60,
   "metadata": {
    "tags": []
   },
   "outputs": [
    {
     "output_type": "stream",
     "name": "stdout",
     "text": "2\n2\njaime\n"
    }
   ],
   "source": [
    " \n",
    "n = 1\n",
    "def cambiar_n():\n",
    "    global n\n",
    "    n=n+1\n",
    "    return \"jaime\"\n",
    "\n",
    "x = cambiar_n() \n",
    "print(n) #imprime 2 porque ya ha pasado por la funcion\n",
    "print(n) #lo mismo\n",
    "\n",
    "print(x) #imprime jaime porque le estamos pidiedo que imprima lo que devuelve la funcion cambiar_n (que es jaime)\n",
    "#atencion, los prints que hacemos muetsran la ejecución según se ha ido haciendo en vertical hacia abajo \n"
   ]
  },
  {
   "cell_type": "code",
   "execution_count": 61,
   "metadata": {},
   "outputs": [],
   "source": [
    "del x"
   ]
  },
  {
   "cell_type": "code",
   "execution_count": null,
   "metadata": {},
   "outputs": [],
   "source": []
  }
 ],
 "metadata": {
  "language_info": {
   "codemirror_mode": {
    "name": "ipython",
    "version": 3
   },
   "file_extension": ".py",
   "mimetype": "text/x-python",
   "name": "python",
   "nbconvert_exporter": "python",
   "pygments_lexer": "ipython3",
   "version": 3
  },
  "orig_nbformat": 2,
  "kernelspec": {
   "name": "python_defaultSpec_1595610144298",
   "display_name": "Python 3.8.3 32-bit"
  }
 },
 "nbformat": 4,
 "nbformat_minor": 2
}