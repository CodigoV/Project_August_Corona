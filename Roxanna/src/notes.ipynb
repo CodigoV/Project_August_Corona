{
 "metadata": {
  "language_info": {
   "codemirror_mode": {
    "name": "ipython",
    "version": 3
   },
   "file_extension": ".py",
   "mimetype": "text/x-python",
   "name": "python",
   "nbconvert_exporter": "python",
   "pygments_lexer": "ipython3",
   "version": 3
  },
  "orig_nbformat": 2
 },
 "nbformat": 4,
 "nbformat_minor": 2,
 "cells": [
  {
   "cell_type": "markdown",
   "metadata": {},
   "source": [
    "To add syspath and use all folders when importing:\n"
   ]
  },
  {
   "cell_type": "code",
   "execution_count": null,
   "metadata": {},
   "outputs": [],
   "source": [
    "os.path.abspath('')  ## de weg naar de file waar je nu bent"
   ]
  },
  {
   "cell_type": "code",
   "execution_count": null,
   "metadata": {},
   "outputs": [],
   "source": [
    "root_path = os.path.dirname(os.path.abspath('')) # één stap naar boven om in de \"hoofdmap te zijn\"\n",
    "sys.path.append(root_path) ##sys path toevoegen naar hoofdmap\n",
    "print(root_path)"
   ]
  },
  {
   "cell_type": "code",
   "execution_count": null,
   "metadata": {},
   "outputs": [],
   "source": [
    "#mean_per_day = Data_all_countries.groupby(\"date\")[\"total_cases\"].mean() #calculating mean per day of all countries\n",
    "#json_mean_total_cases = mean_per_day.to_json(\"Mean_per_day.json\") #converting to Json "
   ]
  },
  {
   "cell_type": "code",
   "execution_count": null,
   "metadata": {},
   "outputs": [],
   "source": [
    "data_covid.handwashing_facilities.isnull().count() #TODO # All rows have None value for, to be deleted?  "
   ]
  }
 ]
}