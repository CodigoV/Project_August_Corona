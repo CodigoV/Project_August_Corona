{
 "metadata": {
  "language_info": {
   "codemirror_mode": {
    "name": "ipython",
    "version": 3
   },
   "file_extension": ".py",
   "mimetype": "text/x-python",
   "name": "python",
   "nbconvert_exporter": "python",
   "pygments_lexer": "ipython3",
   "version": 3
  },
  "orig_nbformat": 2,
  "kernelspec": {
   "name": "python_defaultSpec_1596179412947",
   "display_name": "Python 3.8.3 32-bit"
  }
 },
 "nbformat": 4,
 "nbformat_minor": 2,
 "cells": [
  {
   "cell_type": "code",
   "execution_count": 4,
   "metadata": {},
   "outputs": [],
   "source": [
    "import pandas as pd"
   ]
  },
  {
   "cell_type": "code",
   "execution_count": 10,
   "metadata": {},
   "outputs": [],
   "source": [
    "f = pd.read_json(\"Mean_per_day.json\")"
   ]
  },
  {
   "cell_type": "code",
   "execution_count": 3,
   "metadata": {},
   "outputs": [
    {
     "output_type": "execute_result",
     "data": {
      "text/plain": "            t_c_averages\n2019-12-31           0.0\n2020-01-01           0.0\n2020-01-02           0.0\n2020-01-03           0.0\n2020-01-04           0.0\n...                  ...\n2020-07-26      678708.2\n2020-07-27      686501.4\n2020-07-28      693046.2\n2020-07-29      703635.2\n2020-07-30      828311.0\n\n[213 rows x 1 columns]",
      "text/html": "<div>\n<style scoped>\n    .dataframe tbody tr th:only-of-type {\n        vertical-align: middle;\n    }\n\n    .dataframe tbody tr th {\n        vertical-align: top;\n    }\n\n    .dataframe thead th {\n        text-align: right;\n    }\n</style>\n<table border=\"1\" class=\"dataframe\">\n  <thead>\n    <tr style=\"text-align: right;\">\n      <th></th>\n      <th>t_c_averages</th>\n    </tr>\n  </thead>\n  <tbody>\n    <tr>\n      <th>2019-12-31</th>\n      <td>0.0</td>\n    </tr>\n    <tr>\n      <th>2020-01-01</th>\n      <td>0.0</td>\n    </tr>\n    <tr>\n      <th>2020-01-02</th>\n      <td>0.0</td>\n    </tr>\n    <tr>\n      <th>2020-01-03</th>\n      <td>0.0</td>\n    </tr>\n    <tr>\n      <th>2020-01-04</th>\n      <td>0.0</td>\n    </tr>\n    <tr>\n      <th>...</th>\n      <td>...</td>\n    </tr>\n    <tr>\n      <th>2020-07-26</th>\n      <td>678708.2</td>\n    </tr>\n    <tr>\n      <th>2020-07-27</th>\n      <td>686501.4</td>\n    </tr>\n    <tr>\n      <th>2020-07-28</th>\n      <td>693046.2</td>\n    </tr>\n    <tr>\n      <th>2020-07-29</th>\n      <td>703635.2</td>\n    </tr>\n    <tr>\n      <th>2020-07-30</th>\n      <td>828311.0</td>\n    </tr>\n  </tbody>\n</table>\n<p>213 rows × 1 columns</p>\n</div>"
     },
     "metadata": {},
     "execution_count": 3
    }
   ],
   "source": [
    "f"
   ]
  },
  {
   "cell_type": "code",
   "execution_count": null,
   "metadata": {},
   "outputs": [],
   "source": []
  }
 ]
}