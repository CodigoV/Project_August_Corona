{
 "metadata": {
  "language_info": {
   "codemirror_mode": {
    "name": "ipython",
    "version": 3
   },
   "file_extension": ".py",
   "mimetype": "text/x-python",
   "name": "python",
   "nbconvert_exporter": "python",
   "pygments_lexer": "ipython3",
   "version": 3
  },
  "orig_nbformat": 2,
  "kernelspec": {
   "name": "python_defaultSpec_1596123361903",
   "display_name": "Python 3.8.3 32-bit"
  }
 },
 "nbformat": 4,
 "nbformat_minor": 2,
 "cells": [
  {
   "cell_type": "markdown",
   "metadata": {},
   "source": [
    "# Title"
   ]
  },
  {
   "cell_type": "code",
   "execution_count": 6,
   "metadata": {},
   "outputs": [],
   "source": [
    "import pandas as pd\n",
    "import numpy as np\n",
    "import json"
   ]
  },
  {
   "cell_type": "code",
   "execution_count": 8,
   "metadata": {},
   "outputs": [],
   "source": [
    "url = \"https://covid.ourworldindata.org/data/owid-covid-data.csv\"\n",
    "data = pd.read_csv(url)\n",
    "Data_all_countries = data[(data.location == \"Spain\") | (data.location == \"Iran\") | (data.location == \"Netherlands\") | (data.location == \"Mexico\") | (data.location == \"Brazil\")] #Filtering our countries from dataset"
   ]
  },
  {
   "cell_type": "code",
   "execution_count": 9,
   "metadata": {
    "tags": []
   },
   "outputs": [
    {
     "output_type": "stream",
     "name": "stdout",
     "text": "None\n"
    }
   ],
   "source": [
    "mean_per_day = Data_all_countries.groupby(\"date\")[\"total_cases\"].mean() #calculating mean per day of all countries\n",
    "json_mean_total_cases = mean_per_day.to_json(\"Mean_per_day.json\") #converting to Json\n"
   ]
  },
  {
   "cell_type": "code",
   "execution_count": 13,
   "metadata": {},
   "outputs": [
    {
     "output_type": "error",
     "ename": "SyntaxError",
     "evalue": "invalid syntax (<ipython-input-13-474a1e31a896>, line 1)",
     "traceback": [
      "\u001b[1;36m  File \u001b[1;32m\"<ipython-input-13-474a1e31a896>\"\u001b[1;36m, line \u001b[1;32m1\u001b[0m\n\u001b[1;33m    import from apis_tb.py Data_to_json\u001b[0m\n\u001b[1;37m           ^\u001b[0m\n\u001b[1;31mSyntaxError\u001b[0m\u001b[1;31m:\u001b[0m invalid syntax\n"
     ]
    }
   ],
   "source": [
    "import from apis_tb.py"
   ]
  },
  {
   "cell_type": "code",
   "execution_count": 12,
   "metadata": {
    "tags": []
   },
   "outputs": [
    {
     "output_type": "execute_result",
     "data": {
      "text/plain": "      iso_code      continent location       date  total_cases  new_cases  \\\n4337       BRA  South America   Brazil 2019-12-31          0.0        0.0   \n4338       BRA  South America   Brazil 2020-01-01          0.0        0.0   \n4339       BRA  South America   Brazil 2020-01-02          0.0        0.0   \n4340       BRA  South America   Brazil 2020-01-03          0.0        0.0   \n4341       BRA  South America   Brazil 2020-01-04          0.0        0.0   \n...        ...            ...      ...        ...          ...        ...   \n28417      ESP         Europe    Spain 2020-07-25     272421.0        0.0   \n28418      ESP         Europe    Spain 2020-07-26     272421.0        0.0   \n28419      ESP         Europe    Spain 2020-07-27     278782.0     6361.0   \n28420      ESP         Europe    Spain 2020-07-28     280610.0     1828.0   \n28421      ESP         Europe    Spain 2020-07-29     282641.0     2031.0   \n\n       total_deaths  new_deaths  total_cases_per_million  \\\n4337            0.0         0.0                    0.000   \n4338            0.0         0.0                    0.000   \n4339            0.0         0.0                    0.000   \n4340            0.0         0.0                    0.000   \n4341            0.0         0.0                    0.000   \n...             ...         ...                      ...   \n28417       28432.0         0.0                 5826.591   \n28418       28432.0         0.0                 5826.591   \n28419       28434.0         2.0                 5962.641   \n28420       28436.0         2.0                 6001.739   \n28421       28441.0         5.0                 6045.178   \n\n       new_cases_per_million  ...  aged_70_older  gdp_per_capita  \\\n4337                   0.000  ...          5.060       14103.452   \n4338                   0.000  ...          5.060       14103.452   \n4339                   0.000  ...          5.060       14103.452   \n4340                   0.000  ...          5.060       14103.452   \n4341                   0.000  ...          5.060       14103.452   \n...                      ...  ...            ...             ...   \n28417                  0.000  ...         13.799       34272.360   \n28418                  0.000  ...         13.799       34272.360   \n28419                136.050  ...         13.799       34272.360   \n28420                 39.098  ...         13.799       34272.360   \n28421                 43.439  ...         13.799       34272.360   \n\n       extreme_poverty  cardiovasc_death_rate  diabetes_prevalence  \\\n4337               3.4                177.961                 8.11   \n4338               3.4                177.961                 8.11   \n4339               3.4                177.961                 8.11   \n4340               3.4                177.961                 8.11   \n4341               3.4                177.961                 8.11   \n...                ...                    ...                  ...   \n28417              1.0                 99.403                 7.17   \n28418              1.0                 99.403                 7.17   \n28419              1.0                 99.403                 7.17   \n28420              1.0                 99.403                 7.17   \n28421              1.0                 99.403                 7.17   \n\n       female_smokers  male_smokers  handwashing_facilities  \\\n4337             10.1          17.9                     NaN   \n4338             10.1          17.9                     NaN   \n4339             10.1          17.9                     NaN   \n4340             10.1          17.9                     NaN   \n4341             10.1          17.9                     NaN   \n...               ...           ...                     ...   \n28417            27.4          31.4                     NaN   \n28418            27.4          31.4                     NaN   \n28419            27.4          31.4                     NaN   \n28420            27.4          31.4                     NaN   \n28421            27.4          31.4                     NaN   \n\n      hospital_beds_per_thousand  life_expectancy  \n4337                        2.20            75.88  \n4338                        2.20            75.88  \n4339                        2.20            75.88  \n4340                        2.20            75.88  \n4341                        2.20            75.88  \n...                          ...              ...  \n28417                       2.97            83.56  \n28418                       2.97            83.56  \n28419                       2.97            83.56  \n28420                       2.97            83.56  \n28421                       2.97            83.56  \n\n[1064 rows x 34 columns]",
      "text/html": "<div>\n<style scoped>\n    .dataframe tbody tr th:only-of-type {\n        vertical-align: middle;\n    }\n\n    .dataframe tbody tr th {\n        vertical-align: top;\n    }\n\n    .dataframe thead th {\n        text-align: right;\n    }\n</style>\n<table border=\"1\" class=\"dataframe\">\n  <thead>\n    <tr style=\"text-align: right;\">\n      <th></th>\n      <th>iso_code</th>\n      <th>continent</th>\n      <th>location</th>\n      <th>date</th>\n      <th>total_cases</th>\n      <th>new_cases</th>\n      <th>total_deaths</th>\n      <th>new_deaths</th>\n      <th>total_cases_per_million</th>\n      <th>new_cases_per_million</th>\n      <th>...</th>\n      <th>aged_70_older</th>\n      <th>gdp_per_capita</th>\n      <th>extreme_poverty</th>\n      <th>cardiovasc_death_rate</th>\n      <th>diabetes_prevalence</th>\n      <th>female_smokers</th>\n      <th>male_smokers</th>\n      <th>handwashing_facilities</th>\n      <th>hospital_beds_per_thousand</th>\n      <th>life_expectancy</th>\n    </tr>\n  </thead>\n  <tbody>\n    <tr>\n      <th>4337</th>\n      <td>BRA</td>\n      <td>South America</td>\n      <td>Brazil</td>\n      <td>2019-12-31</td>\n      <td>0.0</td>\n      <td>0.0</td>\n      <td>0.0</td>\n      <td>0.0</td>\n      <td>0.000</td>\n      <td>0.000</td>\n      <td>...</td>\n      <td>5.060</td>\n      <td>14103.452</td>\n      <td>3.4</td>\n      <td>177.961</td>\n      <td>8.11</td>\n      <td>10.1</td>\n      <td>17.9</td>\n      <td>NaN</td>\n      <td>2.20</td>\n      <td>75.88</td>\n    </tr>\n    <tr>\n      <th>4338</th>\n      <td>BRA</td>\n      <td>South America</td>\n      <td>Brazil</td>\n      <td>2020-01-01</td>\n      <td>0.0</td>\n      <td>0.0</td>\n      <td>0.0</td>\n      <td>0.0</td>\n      <td>0.000</td>\n      <td>0.000</td>\n      <td>...</td>\n      <td>5.060</td>\n      <td>14103.452</td>\n      <td>3.4</td>\n      <td>177.961</td>\n      <td>8.11</td>\n      <td>10.1</td>\n      <td>17.9</td>\n      <td>NaN</td>\n      <td>2.20</td>\n      <td>75.88</td>\n    </tr>\n    <tr>\n      <th>4339</th>\n      <td>BRA</td>\n      <td>South America</td>\n      <td>Brazil</td>\n      <td>2020-01-02</td>\n      <td>0.0</td>\n      <td>0.0</td>\n      <td>0.0</td>\n      <td>0.0</td>\n      <td>0.000</td>\n      <td>0.000</td>\n      <td>...</td>\n      <td>5.060</td>\n      <td>14103.452</td>\n      <td>3.4</td>\n      <td>177.961</td>\n      <td>8.11</td>\n      <td>10.1</td>\n      <td>17.9</td>\n      <td>NaN</td>\n      <td>2.20</td>\n      <td>75.88</td>\n    </tr>\n    <tr>\n      <th>4340</th>\n      <td>BRA</td>\n      <td>South America</td>\n      <td>Brazil</td>\n      <td>2020-01-03</td>\n      <td>0.0</td>\n      <td>0.0</td>\n      <td>0.0</td>\n      <td>0.0</td>\n      <td>0.000</td>\n      <td>0.000</td>\n      <td>...</td>\n      <td>5.060</td>\n      <td>14103.452</td>\n      <td>3.4</td>\n      <td>177.961</td>\n      <td>8.11</td>\n      <td>10.1</td>\n      <td>17.9</td>\n      <td>NaN</td>\n      <td>2.20</td>\n      <td>75.88</td>\n    </tr>\n    <tr>\n      <th>4341</th>\n      <td>BRA</td>\n      <td>South America</td>\n      <td>Brazil</td>\n      <td>2020-01-04</td>\n      <td>0.0</td>\n      <td>0.0</td>\n      <td>0.0</td>\n      <td>0.0</td>\n      <td>0.000</td>\n      <td>0.000</td>\n      <td>...</td>\n      <td>5.060</td>\n      <td>14103.452</td>\n      <td>3.4</td>\n      <td>177.961</td>\n      <td>8.11</td>\n      <td>10.1</td>\n      <td>17.9</td>\n      <td>NaN</td>\n      <td>2.20</td>\n      <td>75.88</td>\n    </tr>\n    <tr>\n      <th>...</th>\n      <td>...</td>\n      <td>...</td>\n      <td>...</td>\n      <td>...</td>\n      <td>...</td>\n      <td>...</td>\n      <td>...</td>\n      <td>...</td>\n      <td>...</td>\n      <td>...</td>\n      <td>...</td>\n      <td>...</td>\n      <td>...</td>\n      <td>...</td>\n      <td>...</td>\n      <td>...</td>\n      <td>...</td>\n      <td>...</td>\n      <td>...</td>\n      <td>...</td>\n      <td>...</td>\n    </tr>\n    <tr>\n      <th>28417</th>\n      <td>ESP</td>\n      <td>Europe</td>\n      <td>Spain</td>\n      <td>2020-07-25</td>\n      <td>272421.0</td>\n      <td>0.0</td>\n      <td>28432.0</td>\n      <td>0.0</td>\n      <td>5826.591</td>\n      <td>0.000</td>\n      <td>...</td>\n      <td>13.799</td>\n      <td>34272.360</td>\n      <td>1.0</td>\n      <td>99.403</td>\n      <td>7.17</td>\n      <td>27.4</td>\n      <td>31.4</td>\n      <td>NaN</td>\n      <td>2.97</td>\n      <td>83.56</td>\n    </tr>\n    <tr>\n      <th>28418</th>\n      <td>ESP</td>\n      <td>Europe</td>\n      <td>Spain</td>\n      <td>2020-07-26</td>\n      <td>272421.0</td>\n      <td>0.0</td>\n      <td>28432.0</td>\n      <td>0.0</td>\n      <td>5826.591</td>\n      <td>0.000</td>\n      <td>...</td>\n      <td>13.799</td>\n      <td>34272.360</td>\n      <td>1.0</td>\n      <td>99.403</td>\n      <td>7.17</td>\n      <td>27.4</td>\n      <td>31.4</td>\n      <td>NaN</td>\n      <td>2.97</td>\n      <td>83.56</td>\n    </tr>\n    <tr>\n      <th>28419</th>\n      <td>ESP</td>\n      <td>Europe</td>\n      <td>Spain</td>\n      <td>2020-07-27</td>\n      <td>278782.0</td>\n      <td>6361.0</td>\n      <td>28434.0</td>\n      <td>2.0</td>\n      <td>5962.641</td>\n      <td>136.050</td>\n      <td>...</td>\n      <td>13.799</td>\n      <td>34272.360</td>\n      <td>1.0</td>\n      <td>99.403</td>\n      <td>7.17</td>\n      <td>27.4</td>\n      <td>31.4</td>\n      <td>NaN</td>\n      <td>2.97</td>\n      <td>83.56</td>\n    </tr>\n    <tr>\n      <th>28420</th>\n      <td>ESP</td>\n      <td>Europe</td>\n      <td>Spain</td>\n      <td>2020-07-28</td>\n      <td>280610.0</td>\n      <td>1828.0</td>\n      <td>28436.0</td>\n      <td>2.0</td>\n      <td>6001.739</td>\n      <td>39.098</td>\n      <td>...</td>\n      <td>13.799</td>\n      <td>34272.360</td>\n      <td>1.0</td>\n      <td>99.403</td>\n      <td>7.17</td>\n      <td>27.4</td>\n      <td>31.4</td>\n      <td>NaN</td>\n      <td>2.97</td>\n      <td>83.56</td>\n    </tr>\n    <tr>\n      <th>28421</th>\n      <td>ESP</td>\n      <td>Europe</td>\n      <td>Spain</td>\n      <td>2020-07-29</td>\n      <td>282641.0</td>\n      <td>2031.0</td>\n      <td>28441.0</td>\n      <td>5.0</td>\n      <td>6045.178</td>\n      <td>43.439</td>\n      <td>...</td>\n      <td>13.799</td>\n      <td>34272.360</td>\n      <td>1.0</td>\n      <td>99.403</td>\n      <td>7.17</td>\n      <td>27.4</td>\n      <td>31.4</td>\n      <td>NaN</td>\n      <td>2.97</td>\n      <td>83.56</td>\n    </tr>\n  </tbody>\n</table>\n<p>1064 rows × 34 columns</p>\n</div>"
     },
     "metadata": {},
     "execution_count": 12
    }
   ],
   "source": [
    "Data_all_countries.date = pd.to_datetime(Data_all_countries.date) #changing date to datetime and setting as index\n",
    "Data_all_countries1 = Data_all_countries.set_index(\"date\")\n",
    "Data_all_countries"
   ]
  },
  {
   "cell_type": "code",
   "execution_count": null,
   "metadata": {},
   "outputs": [],
   "source": [
    "Data_all_countries.handwashing_facilities.isnull().count() #TODO # All rows have None value for, to be deleted?  "
   ]
  }
 ]
}